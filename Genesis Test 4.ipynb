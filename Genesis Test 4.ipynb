{
 "cells": [
  {
   "cell_type": "code",
   "execution_count": 1,
   "metadata": {},
   "outputs": [],
   "source": [
    "#Importing dependencies\n",
    "import pandas as pd\n",
    "import numpy as np\n",
    "import seaborn as sns\n",
    "import matplotlib.pyplot as plt\n",
    "import matplotlib.mlab as mlab\n",
    "%matplotlib inline\n",
    "from datetime import datetime as dt\n",
    "from datetime import timedelta\n",
    "from scipy import stats\n",
    "import warnings\n",
    "warnings.filterwarnings('ignore')"
   ]
  },
  {
   "cell_type": "markdown",
   "metadata": {},
   "source": [
    "### Data Preparation"
   ]
  },
  {
   "cell_type": "code",
   "execution_count": 2,
   "metadata": {},
   "outputs": [
    {
     "data": {
      "text/html": [
       "<div>\n",
       "<style scoped>\n",
       "    .dataframe tbody tr th:only-of-type {\n",
       "        vertical-align: middle;\n",
       "    }\n",
       "\n",
       "    .dataframe tbody tr th {\n",
       "        vertical-align: top;\n",
       "    }\n",
       "\n",
       "    .dataframe thead th {\n",
       "        text-align: right;\n",
       "    }\n",
       "</style>\n",
       "<table border=\"1\" class=\"dataframe\">\n",
       "  <thead>\n",
       "    <tr style=\"text-align: right;\">\n",
       "      <th></th>\n",
       "      <th>sender_id</th>\n",
       "      <th>platform_id</th>\n",
       "      <th>time_stamp</th>\n",
       "      <th>gender</th>\n",
       "      <th>reg_date</th>\n",
       "    </tr>\n",
       "  </thead>\n",
       "  <tbody>\n",
       "    <tr>\n",
       "      <th>0</th>\n",
       "      <td>3207526951</td>\n",
       "      <td>6</td>\n",
       "      <td>16.03.2017 13:35</td>\n",
       "      <td>m</td>\n",
       "      <td>26.01.2017</td>\n",
       "    </tr>\n",
       "    <tr>\n",
       "      <th>1</th>\n",
       "      <td>3207526951</td>\n",
       "      <td>6</td>\n",
       "      <td>16.03.2017 9:09</td>\n",
       "      <td>m</td>\n",
       "      <td>26.01.2017</td>\n",
       "    </tr>\n",
       "    <tr>\n",
       "      <th>2</th>\n",
       "      <td>3207526951</td>\n",
       "      <td>6</td>\n",
       "      <td>16.03.2017 9:09</td>\n",
       "      <td>m</td>\n",
       "      <td>26.01.2017</td>\n",
       "    </tr>\n",
       "    <tr>\n",
       "      <th>3</th>\n",
       "      <td>3207526951</td>\n",
       "      <td>6</td>\n",
       "      <td>16.03.2017 12:13</td>\n",
       "      <td>m</td>\n",
       "      <td>26.01.2017</td>\n",
       "    </tr>\n",
       "    <tr>\n",
       "      <th>4</th>\n",
       "      <td>3207526951</td>\n",
       "      <td>6</td>\n",
       "      <td>15.03.2017 14:01</td>\n",
       "      <td>m</td>\n",
       "      <td>26.01.2017</td>\n",
       "    </tr>\n",
       "  </tbody>\n",
       "</table>\n",
       "</div>"
      ],
      "text/plain": [
       "    sender_id  platform_id        time_stamp gender    reg_date\n",
       "0  3207526951            6  16.03.2017 13:35      m  26.01.2017\n",
       "1  3207526951            6   16.03.2017 9:09      m  26.01.2017\n",
       "2  3207526951            6   16.03.2017 9:09      m  26.01.2017\n",
       "3  3207526951            6  16.03.2017 12:13      m  26.01.2017\n",
       "4  3207526951            6  15.03.2017 14:01      m  26.01.2017"
      ]
     },
     "execution_count": 2,
     "metadata": {},
     "output_type": "execute_result"
    }
   ],
   "source": [
    "#Reading data into a df\n",
    "data = pd.read_csv(\"/Users/daryarudych/Desktop/Test_4.csv\", sep = ';')\n",
    "data.head()"
   ]
  },
  {
   "cell_type": "code",
   "execution_count": 3,
   "metadata": {},
   "outputs": [
    {
     "name": "stdout",
     "output_type": "stream",
     "text": [
      "(768439, 5)\n"
     ]
    },
    {
     "data": {
      "text/plain": [
       "(768268, 5)"
      ]
     },
     "execution_count": 3,
     "metadata": {},
     "output_type": "execute_result"
    }
   ],
   "source": [
    "#Check shape of data\n",
    "print(data.shape)\n",
    "\n",
    "#Check data types\n",
    "data.dtypes\n",
    "\n",
    "#Analyze data\n",
    "data.describe(include = 'all')\n",
    "\n",
    "#Drop rows with invalid gender\n",
    "data = data[data['gender'] != ' ']\n",
    "data.shape"
   ]
  },
  {
   "cell_type": "code",
   "execution_count": 4,
   "metadata": {},
   "outputs": [],
   "source": [
    "#Modifying data set\n",
    "\n",
    "#Converting time_stamp to datetime object\n",
    "data['time_stamp'] = pd.to_datetime(data['time_stamp'], format = \"%d.%m.%Y %H:%M\")\n",
    "\n",
    "#Label platform_id\n",
    "data['platform_id'] = data['platform_id'].map({6: 'desktop', 7: 'mobile'})\n",
    "\n",
    "#Add column with date of like\n",
    "data['like_date'] = data['time_stamp'].dt.date"
   ]
  },
  {
   "cell_type": "code",
   "execution_count": 5,
   "metadata": {},
   "outputs": [],
   "source": [
    "#Splitting data into before and after the test\n",
    "launch = '2017-03-24 16:00'\n",
    "launch_date = dt.strptime(launch, \"%Y-%m-%d %H:%M\")\n",
    "before_df = data[data['time_stamp']<launch_date]\n",
    "after_df = data[data['time_stamp']>=launch_date]"
   ]
  },
  {
   "cell_type": "markdown",
   "metadata": {},
   "source": [
    "### Analysis of A/B Test Results"
   ]
  },
  {
   "cell_type": "markdown",
   "metadata": {},
   "source": [
    "Так как с помощью теста мы хотим увеличить количество лайков, то в качестве KPI возьмем среднее количество лайков на одного уникального пользователя в день."
   ]
  },
  {
   "cell_type": "code",
   "execution_count": 6,
   "metadata": {},
   "outputs": [
    {
     "data": {
      "text/html": [
       "<div>\n",
       "<style scoped>\n",
       "    .dataframe tbody tr th:only-of-type {\n",
       "        vertical-align: middle;\n",
       "    }\n",
       "\n",
       "    .dataframe tbody tr th {\n",
       "        vertical-align: top;\n",
       "    }\n",
       "\n",
       "    .dataframe thead th {\n",
       "        text-align: right;\n",
       "    }\n",
       "</style>\n",
       "<table border=\"1\" class=\"dataframe\">\n",
       "  <thead>\n",
       "    <tr style=\"text-align: right;\">\n",
       "      <th></th>\n",
       "      <th>sender_id</th>\n",
       "      <th>platform_id</th>\n",
       "      <th>time_stamp</th>\n",
       "      <th>gender</th>\n",
       "      <th>reg_date</th>\n",
       "      <th>like_date</th>\n",
       "      <th>group</th>\n",
       "    </tr>\n",
       "  </thead>\n",
       "  <tbody>\n",
       "    <tr>\n",
       "      <th>150161</th>\n",
       "      <td>3218632174</td>\n",
       "      <td>mobile</td>\n",
       "      <td>2017-03-26 07:34:00</td>\n",
       "      <td>m</td>\n",
       "      <td>23.03.2017</td>\n",
       "      <td>2017-03-26</td>\n",
       "      <td>control</td>\n",
       "    </tr>\n",
       "    <tr>\n",
       "      <th>150162</th>\n",
       "      <td>3218635027</td>\n",
       "      <td>mobile</td>\n",
       "      <td>2017-03-26 06:19:00</td>\n",
       "      <td>m</td>\n",
       "      <td>23.03.2017</td>\n",
       "      <td>2017-03-26</td>\n",
       "      <td>test</td>\n",
       "    </tr>\n",
       "    <tr>\n",
       "      <th>150163</th>\n",
       "      <td>3218635027</td>\n",
       "      <td>mobile</td>\n",
       "      <td>2017-03-26 06:19:00</td>\n",
       "      <td>m</td>\n",
       "      <td>23.03.2017</td>\n",
       "      <td>2017-03-26</td>\n",
       "      <td>test</td>\n",
       "    </tr>\n",
       "    <tr>\n",
       "      <th>150164</th>\n",
       "      <td>3218635027</td>\n",
       "      <td>mobile</td>\n",
       "      <td>2017-03-26 06:18:00</td>\n",
       "      <td>m</td>\n",
       "      <td>23.03.2017</td>\n",
       "      <td>2017-03-26</td>\n",
       "      <td>test</td>\n",
       "    </tr>\n",
       "    <tr>\n",
       "      <th>150165</th>\n",
       "      <td>3218635027</td>\n",
       "      <td>mobile</td>\n",
       "      <td>2017-03-26 06:19:00</td>\n",
       "      <td>m</td>\n",
       "      <td>23.03.2017</td>\n",
       "      <td>2017-03-26</td>\n",
       "      <td>test</td>\n",
       "    </tr>\n",
       "  </tbody>\n",
       "</table>\n",
       "</div>"
      ],
      "text/plain": [
       "         sender_id platform_id          time_stamp gender    reg_date  \\\n",
       "150161  3218632174      mobile 2017-03-26 07:34:00      m  23.03.2017   \n",
       "150162  3218635027      mobile 2017-03-26 06:19:00      m  23.03.2017   \n",
       "150163  3218635027      mobile 2017-03-26 06:19:00      m  23.03.2017   \n",
       "150164  3218635027      mobile 2017-03-26 06:18:00      m  23.03.2017   \n",
       "150165  3218635027      mobile 2017-03-26 06:19:00      m  23.03.2017   \n",
       "\n",
       "         like_date    group  \n",
       "150161  2017-03-26  control  \n",
       "150162  2017-03-26     test  \n",
       "150163  2017-03-26     test  \n",
       "150164  2017-03-26     test  \n",
       "150165  2017-03-26     test  "
      ]
     },
     "execution_count": 6,
     "metadata": {},
     "output_type": "execute_result"
    }
   ],
   "source": [
    "#Adding column with labels test/control\n",
    "after_df['group'] = np.where(after_df['sender_id']%2==0, 'control', 'test')\n",
    "\n",
    "#Add column with date of like\n",
    "after_df['like_date'] = after_df['time_stamp'].dt.date\n",
    "\n",
    "#Displaying df\n",
    "after_df.head()\n"
   ]
  },
  {
   "cell_type": "markdown",
   "metadata": {},
   "source": [
    "Для того, чтобы понять насколько \"чисто\" администрировался тест, посмотрим равномерно ли были распределены пользователи по группам."
   ]
  },
  {
   "cell_type": "code",
   "execution_count": 7,
   "metadata": {},
   "outputs": [
    {
     "data": {
      "text/html": [
       "<div>\n",
       "<style scoped>\n",
       "    .dataframe tbody tr th:only-of-type {\n",
       "        vertical-align: middle;\n",
       "    }\n",
       "\n",
       "    .dataframe tbody tr th {\n",
       "        vertical-align: top;\n",
       "    }\n",
       "\n",
       "    .dataframe thead th {\n",
       "        text-align: right;\n",
       "    }\n",
       "</style>\n",
       "<table border=\"1\" class=\"dataframe\">\n",
       "  <thead>\n",
       "    <tr style=\"text-align: right;\">\n",
       "      <th></th>\n",
       "      <th></th>\n",
       "      <th></th>\n",
       "      <th>sender_id</th>\n",
       "    </tr>\n",
       "    <tr>\n",
       "      <th>group</th>\n",
       "      <th>platform_id</th>\n",
       "      <th>gender</th>\n",
       "      <th></th>\n",
       "    </tr>\n",
       "  </thead>\n",
       "  <tbody>\n",
       "    <tr>\n",
       "      <th rowspan=\"4\" valign=\"top\">control</th>\n",
       "      <th rowspan=\"2\" valign=\"top\">desktop</th>\n",
       "      <th>f</th>\n",
       "      <td>5.0</td>\n",
       "    </tr>\n",
       "    <tr>\n",
       "      <th>m</th>\n",
       "      <td>18.0</td>\n",
       "    </tr>\n",
       "    <tr>\n",
       "      <th rowspan=\"2\" valign=\"top\">mobile</th>\n",
       "      <th>f</th>\n",
       "      <td>6.0</td>\n",
       "    </tr>\n",
       "    <tr>\n",
       "      <th>m</th>\n",
       "      <td>22.0</td>\n",
       "    </tr>\n",
       "    <tr>\n",
       "      <th rowspan=\"4\" valign=\"top\">test</th>\n",
       "      <th rowspan=\"2\" valign=\"top\">desktop</th>\n",
       "      <th>f</th>\n",
       "      <td>5.0</td>\n",
       "    </tr>\n",
       "    <tr>\n",
       "      <th>m</th>\n",
       "      <td>18.0</td>\n",
       "    </tr>\n",
       "    <tr>\n",
       "      <th rowspan=\"2\" valign=\"top\">mobile</th>\n",
       "      <th>f</th>\n",
       "      <td>6.0</td>\n",
       "    </tr>\n",
       "    <tr>\n",
       "      <th>m</th>\n",
       "      <td>21.0</td>\n",
       "    </tr>\n",
       "  </tbody>\n",
       "</table>\n",
       "</div>"
      ],
      "text/plain": [
       "                            sender_id\n",
       "group   platform_id gender           \n",
       "control desktop     f             5.0\n",
       "                    m            18.0\n",
       "        mobile      f             6.0\n",
       "                    m            22.0\n",
       "test    desktop     f             5.0\n",
       "                    m            18.0\n",
       "        mobile      f             6.0\n",
       "                    m            21.0"
      ]
     },
     "execution_count": 7,
     "metadata": {},
     "output_type": "execute_result"
    }
   ],
   "source": [
    "results = after_df.groupby(by=['group', 'platform_id', 'gender']).agg({'sender_id': pd.Series.nunique}) \n",
    "\n",
    "# Find the overall number of unique users using \"len\" and \"unique\"\n",
    "unique_users = len(after_df.sender_id.unique())\n",
    "\n",
    "# Find the percentage in each group\n",
    "results = round(results / unique_users * 100.2)\n",
    "results"
   ]
  },
  {
   "cell_type": "markdown",
   "metadata": {},
   "source": [
    "Из данной таблицы видно, что пользователи относительно равномерно распределены по группам, платформам и полам в группах.\n",
    "<br>\n",
    "\n",
    "Теперь посчитаем среднее и максимальное кол-во \"лайков\" на пользователя в день по каждой из групп.\n"
   ]
  },
  {
   "cell_type": "code",
   "execution_count": 8,
   "metadata": {},
   "outputs": [
    {
     "data": {
      "text/html": [
       "<div>\n",
       "<style scoped>\n",
       "    .dataframe tbody tr th:only-of-type {\n",
       "        vertical-align: middle;\n",
       "    }\n",
       "\n",
       "    .dataframe tbody tr th {\n",
       "        vertical-align: top;\n",
       "    }\n",
       "\n",
       "    .dataframe thead th {\n",
       "        text-align: right;\n",
       "    }\n",
       "</style>\n",
       "<table border=\"1\" class=\"dataframe\">\n",
       "  <thead>\n",
       "    <tr style=\"text-align: right;\">\n",
       "      <th></th>\n",
       "      <th>sample_size</th>\n",
       "      <th>total_likes</th>\n",
       "      <th>avg_per_user/day</th>\n",
       "      <th>variance</th>\n",
       "      <th>run_time</th>\n",
       "      <th>max_per_user</th>\n",
       "    </tr>\n",
       "    <tr>\n",
       "      <th>group</th>\n",
       "      <th></th>\n",
       "      <th></th>\n",
       "      <th></th>\n",
       "      <th></th>\n",
       "      <th></th>\n",
       "      <th></th>\n",
       "    </tr>\n",
       "  </thead>\n",
       "  <tbody>\n",
       "    <tr>\n",
       "      <th>control</th>\n",
       "      <td>4947</td>\n",
       "      <td>57628</td>\n",
       "      <td>5.8</td>\n",
       "      <td>0.3</td>\n",
       "      <td>3 days</td>\n",
       "      <td>1154</td>\n",
       "    </tr>\n",
       "    <tr>\n",
       "      <th>test</th>\n",
       "      <td>4700</td>\n",
       "      <td>49941</td>\n",
       "      <td>4.1</td>\n",
       "      <td>4.3</td>\n",
       "      <td>3 days</td>\n",
       "      <td>402</td>\n",
       "    </tr>\n",
       "  </tbody>\n",
       "</table>\n",
       "</div>"
      ],
      "text/plain": [
       "         sample_size  total_likes  avg_per_user/day  variance run_time  \\\n",
       "group                                                                    \n",
       "control         4947        57628               5.8       0.3   3 days   \n",
       "test            4700        49941               4.1       4.3   3 days   \n",
       "\n",
       "         max_per_user  \n",
       "group                  \n",
       "control          1154  \n",
       "test              402  "
      ]
     },
     "execution_count": 8,
     "metadata": {},
     "output_type": "execute_result"
    }
   ],
   "source": [
    "#Grouping data by group, platform_id, like_date\n",
    "aggs = {'sender_id': {'sample_size': 'nunique', 'total_likes': 'count'}}\n",
    "after_df1 = after_df.groupby(['group', 'like_date']).agg(aggs)\n",
    "after_df1.columns = after_df1.columns.droplevel()\n",
    "\n",
    "#Adding column with average likes per user per day\n",
    "after_df1['Avg_Likes_User'] = round(after_df.groupby(['group', 'like_date'])['sender_id'].count()/after_df.groupby('like_date')['sender_id'].nunique(),2)\n",
    "\n",
    "#Re-grouping data to display average likes per user per day across platforms and groups\n",
    "aggs1 = {'sample_size': {'sample_size': 'sum'}, 'total_likes': {'total_likes': 'sum'},'Avg_Likes_User' : {'avg_per_user/day': 'mean', 'variance': 'var'}}\n",
    "summary_df = after_df1.groupby(['group']).agg(aggs1).apply(lambda x: round(x,1))\n",
    "summary_df.columns = summary_df.columns.droplevel() \n",
    "summary_df['run_time'] = after_df['like_date'].max() - after_df['like_date'].min()\n",
    "\n",
    "#Identify max clicks per group\n",
    "count_likes = after_df.groupby(['group', 'platform_id','sender_id']).agg({'sender_id': {'likes': 'size'}})\n",
    "count_likes.columns = count_likes.columns.droplevel()\n",
    "count_likes_max = count_likes.groupby(['group'])['likes'].max()\n",
    "summary_df['max_per_user'] = count_likes_max\n",
    "summary_df"
   ]
  },
  {
   "cell_type": "markdown",
   "metadata": {},
   "source": [
    "Из вышеприведенной таблицы видно, что показатели среднего кол-ва лайков на пользователя в день и максимальное кол-во лайков на пользователя у тестового варианта ниже, чем у старого. Из этих данных можно сделать предворительный вывод, что тестовый вариант не ведет к увеличению лайков. \n",
    "\n",
    "Однако на данном этапе нельзя с увереностью сделать вывод о том, что этот вариант хуже старого. Так как тест проводился всего 3 дня, собранных данных может быть недостаточно для того, чтобы с уверенностью отклонить этот вариант. Для того, чтобы определить является ли разница в показателях по тестовому и старому варианту статистически значимой, необходимо провести проверку гипотезы.\n",
    "\n",
    "#### Нулевая гипотеза\n",
    "Изменение кнопки \"лайк\" для тестовой группы не влияет на среднее кол-во \"лайков\" на пользователя в день.\n",
    "<br>\n",
    "#### Альтернативная гипотеза\n",
    "Изменение кнопки \"лайк\" для тестовой группы ведет к увеличению/уменьшению среднего кол-ва \"лайков\" на пользователя в день."
   ]
  },
  {
   "cell_type": "code",
   "execution_count": 9,
   "metadata": {},
   "outputs": [],
   "source": [
    "aggs = {'time_stamp':{'total_likes':'nunique'}, 'like_date': {'count_days': 'nunique'}}\n",
    "after_df2 = after_df.groupby(['sender_id', 'group'], as_index=False).agg(aggs)\n",
    "\n",
    "after_df2.columns = after_df2.columns.droplevel(0) \n",
    "after_df2\n",
    "\n",
    "after_df2.columns.values[0] = 'sender_id'\n",
    "after_df2.columns.values[1] = 'group'\n",
    "after_df2['avg_likes_user/day'] = round(after_df2['total_likes']/after_df2['count_days'],2)\n",
    "\n",
    "control_data = after_df2[after_df2['group']=='control']\n",
    "test_data = after_df2[after_df2['group']=='test']"
   ]
  },
  {
   "cell_type": "code",
   "execution_count": 10,
   "metadata": {},
   "outputs": [
    {
     "data": {
      "image/png": "[encoded data removed]",
      "text/plain": [
       "<Figure size 864x432 with 1 Axes>"
      ]
     },
     "metadata": {},
     "output_type": "display_data"
    }
   ],
   "source": [
    "#Compute std for each group\n",
    "control_std = np.std(control_data['avg_likes_user/day'])\n",
    "test_std = np.std(test_data['avg_likes_user/day'])\n",
    "\n",
    "#Compute means for each group\n",
    "control_mean = np.mean(control_data['avg_likes_user/day'])\n",
    "test_mean = np.mean(test_data['avg_likes_user/day'])\n",
    "\n",
    "\n",
    "# Create the range of x values \n",
    "control_line = np.linspace( -3 * control_std+control_mean, 3 * control_std + control_mean, 100)\n",
    "test_line = np.linspace( - 3 * test_std+test_mean,  3 * test_std + test_mean, 100)\n",
    "\n",
    "# Plot the distribution \n",
    "fig, ax = plt.subplots(figsize=(12,6))\n",
    "\n",
    "#control \n",
    "ax.plot(control_line, mlab.normpdf(control_line, control_mean, control_std), label = 'Control PDF')\n",
    "ax.axvline(x=control_mean, c='red', alpha=0.5, linestyle='--')\n",
    "\n",
    "#test\n",
    "ax.plot(test_line, mlab.normpdf(test_line, test_mean, test_std), label = 'Test PDF')\n",
    "ax.axvline(x=test_mean, c='blue', alpha=0.5, linestyle='--')\n",
    "\n",
    "plt.legend(loc='upper right')\n",
    "plt.show()"
   ]
  },
  {
   "cell_type": "markdown",
   "metadata": {},
   "source": [
    "Как видно из графика, среднее значения для каждой из групп совпадают, в результате чего мы должны принять нулевую гипотезу. Однако, чтобы удостовериться в том, что изменение кнопки действительно не влияет на кол-во лайков, посчитаем p-value."
   ]
  },
  {
   "cell_type": "code",
   "execution_count": 11,
   "metadata": {},
   "outputs": [],
   "source": [
    "#Function to compute p-value\n",
    "\n",
    "def get_pvalue(cont_avg, test_avg, cont_size, test_size):\n",
    "    lift = - abs(test_avg-cont_avg)\n",
    "    scale_one = cont_avg*(1-cont_avg)*(1/cont_size)\n",
    "    scale_two = test_avg*(1-test_avg)*(1/test_size)\n",
    "    scale_val = (scale_one+scale_two)**0.5\n",
    "    p_value = 2*stats.norm.cdf(lift, loc=0, scale=scale_val)\n",
    "    return p_value\n",
    "    "
   ]
  },
  {
   "cell_type": "code",
   "execution_count": 12,
   "metadata": {},
   "outputs": [
    {
     "name": "stdout",
     "output_type": "stream",
     "text": [
      "Разница в среднем кол-ве лайков на пользователя в день статистически незначимая\n"
     ]
    }
   ],
   "source": [
    "cont_avg = control_mean\n",
    "test_avg = test_mean\n",
    "cont_size = len(control_data['sender_id'])\n",
    "test_size = len(test_data['sender_id'])\n",
    "p_value = get_pvalue(cont_avg, test_avg, cont_size, test_size)\n",
    "\n",
    "# Check for statistical significance\n",
    "if p_value >= 0.05:\n",
    "    print(\"Разница в среднем кол-ве лайков на пользователя в день статистически незначимая\")\n",
    "else:\n",
    "    print(\"Разница в среднем кол-ве лайков на пользователя в день статистически значимая\")"
   ]
  },
  {
   "cell_type": "markdown",
   "metadata": {},
   "source": [
    "#### Вывод: \n",
    "По результатам теста, можно сделать вывод, что изменение кнопки \"лайк\" не влияет на среднее кол-во лайков в день. Возможно тест проводился не достаточно долго и собранных данных недостаточно, чтобы увидеть изменения в кол-ве лайков."
   ]
  },
  {
   "cell_type": "code",
   "execution_count": null,
   "metadata": {},
   "outputs": [],
   "source": []
  }
 ],
 "metadata": {
  "kernelspec": {
   "display_name": "Python [conda env:PythonData]",
   "language": "python",
   "name": "conda-env-PythonData-py"
  },
  "language_info": {
   "codemirror_mode": {
    "name": "ipython",
    "version": 3
   },
   "file_extension": ".py",
   "mimetype": "text/x-python",
   "name": "python",
   "nbconvert_exporter": "python",
   "pygments_lexer": "ipython3",
   "version": "3.6.8"
  }
 },
 "nbformat": 4,
 "nbformat_minor": 2
}
